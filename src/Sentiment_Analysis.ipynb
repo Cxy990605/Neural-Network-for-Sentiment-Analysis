{
 "cells": [
  {
   "cell_type": "code",
   "execution_count": 116,
   "metadata": {},
   "outputs": [],
   "source": [
    "import re\n",
    "import glob\n",
    "import pandas as pd\n",
    "import numpy as np\n",
    "import warnings\n",
    "warnings.filterwarnings('ignore')\n",
    "from statistics import mean,stdev\n",
    "import matplotlib.pyplot as plt\n",
    "from keras.preprocessing.text import Tokenizer\n",
    "import tensorflow as tf"
   ]
  },
  {
   "cell_type": "markdown",
   "metadata": {},
   "source": [
    "## Data Exploration and Pre-processing"
   ]
  },
  {
   "cell_type": "code",
   "execution_count": 117,
   "metadata": {},
   "outputs": [],
   "source": [
    "# b(i)-(iii)\n",
    "neg_files = glob.glob('C:\\\\Users\\\\win10\\\\Desktop\\\\Final\\\\neg\\\\cv*.txt')\n",
    "pos_files = glob.glob('C:\\\\Users\\\\win10\\\\Desktop\\\\Final\\\\pos\\\\cv*.txt')\n",
    "label_path = {1:[i for i in pos_files],0:[i for i in neg_files]}"
   ]
  },
  {
   "cell_type": "code",
   "execution_count": 118,
   "metadata": {},
   "outputs": [],
   "source": [
    "pos_lst = [i for i in pos_files]\n",
    "pos_txt = []\n",
    "for i in pos_lst:\n",
    "    f = open(i, \"r\",encoding='utf-8')\n",
    "    content = f.read()\n",
    "    no_punc = re.sub('[^a-zA-Z]', ' ', content)\n",
    "    no_num = re.sub(r'[\\d+]', '', no_punc).split()\n",
    "    pos_txt = pos_txt + no_num\n",
    "# print(pos_txt)"
   ]
  },
  {
   "cell_type": "code",
   "execution_count": 119,
   "metadata": {},
   "outputs": [],
   "source": [
    "neg_lst = [i for i in neg_files]\n",
    "neg_txt = []\n",
    "for i in neg_lst:\n",
    "    f = open(i, \"r\",encoding='utf-8')\n",
    "    content = f.read()\n",
    "    no_punc = re.sub('[^a-zA-Z]', ' ', content)\n",
    "    no_num = re.sub(r'[\\d+]', '', no_punc).split()\n",
    "    neg_txt = neg_txt + no_num\n",
    "#print(neg_txt)"
   ]
  },
  {
   "cell_type": "code",
   "execution_count": null,
   "metadata": {},
   "outputs": [],
   "source": []
  },
  {
   "cell_type": "code",
   "execution_count": 120,
   "metadata": {},
   "outputs": [],
   "source": [
    "# Split training and test data\n",
    "train_files = neg_files[:700] + pos_files[:700] # len(trainn_data):1400\n",
    "test_files = neg_files[700:] + pos_files[700:] # len(test_data):600"
   ]
  },
  {
   "cell_type": "code",
   "execution_count": 121,
   "metadata": {},
   "outputs": [],
   "source": [
    "train_word = []\n",
    "for i in train_files:\n",
    "    f = open(i,\"r\",encoding='utf-8')\n",
    "    content = f.read()\n",
    "    no_punc = re.sub('[^a-zA-Z]', ' ', content)\n",
    "    no_num = re.sub(r'[\\d+]', '', no_punc)\n",
    "    train_word = train_word + no_num.split()\n"
   ]
  },
  {
   "cell_type": "code",
   "execution_count": 122,
   "metadata": {},
   "outputs": [],
   "source": [
    "test_word = []\n",
    "for i in test_files:\n",
    "    f = open(i,\"r\",encoding='utf-8')\n",
    "    content = f.read()\n",
    "    no_punc = re.sub('[^a-zA-Z]', ' ', content)\n",
    "    no_num = re.sub(r'[\\d+]', '', no_punc)\n",
    "    test_word = test_word + no_num.split()\n",
    "#print(test_word)"
   ]
  },
  {
   "cell_type": "code",
   "execution_count": null,
   "metadata": {},
   "outputs": [],
   "source": [
    "# b(iv) Count the number of unique words in the whole dataset (train + test)\n",
    "\n",
    "word_lst = train_word + test_word\n",
    "tokenizer = Tokenizer()\n",
    "tokenizer.fit_on_texts(word_lst)"
   ]
  },
  {
   "cell_type": "code",
   "execution_count": 125,
   "metadata": {},
   "outputs": [
    {
     "name": "stdout",
     "output_type": "stream",
     "text": [
      "The number of unique words: 38911\n"
     ]
    }
   ],
   "source": [
    "unique_count = len(tokenizer.word_counts)\n",
    "print('The number of unique words:',unique_count)"
   ]
  },
  {
   "cell_type": "code",
   "execution_count": null,
   "metadata": {},
   "outputs": [],
   "source": []
  },
  {
   "cell_type": "code",
   "execution_count": 127,
   "metadata": {},
   "outputs": [
    {
     "name": "stdout",
     "output_type": "stream",
     "text": [
      "average review length: 644.3575 \n",
      " standard deviation: 285.05139508985275\n"
     ]
    }
   ],
   "source": [
    "# b(v) Calculate the average review length and the standard deviation of review lengths.\n",
    "files = train_files + test_files\n",
    "review_len = []\n",
    "for i in files:\n",
    "    with open(i,\"r\",encoding='utf-8') as file:\n",
    "        content = file.read().split(\"\\n\")\n",
    "        \n",
    "    item = \"\"\n",
    "    for j in content:\n",
    "        item = item + j\n",
    "        \n",
    "    no_punc = re.sub(r'[^\\w\\s+]', '',item)\n",
    "    no_num = re.sub(r'[\\d+]', '', no_punc).split()\n",
    "    \n",
    "    review_len.append(len(no_num))\n",
    "\n",
    "print('average review length:', mean(review_len),'\\n','standard deviation:',stdev(review_len))"
   ]
  },
  {
   "cell_type": "code",
   "execution_count": 128,
   "metadata": {},
   "outputs": [
    {
     "data": {
      "image/png": "[encoded data removed]",
      "text/plain": [
       "<Figure size 720x432 with 1 Axes>"
      ]
     },
     "metadata": {
      "needs_background": "light"
     },
     "output_type": "display_data"
    }
   ],
   "source": [
    "# b(vi) Plot the histogram of review lengths.\n",
    "fig, ax = plt.subplots(figsize =(10, 6))\n",
    "ax.hist(review_len, bins=100)\n",
    "# plt.hist(review_len, bins=100)\n",
    "plt.xlabel('Review Length')\n",
    "plt.ylabel('number of files')\n",
    "plt.title('Review length on whole dataset')\n",
    "\n",
    "plt.show()"
   ]
  },
  {
   "cell_type": "code",
   "execution_count": null,
   "metadata": {},
   "outputs": [],
   "source": []
  },
  {
   "cell_type": "code",
   "execution_count": 129,
   "metadata": {},
   "outputs": [],
   "source": [
    "# b(vii) Tokenize each text document."
   ]
  },
  {
   "cell_type": "code",
   "execution_count": 130,
   "metadata": {},
   "outputs": [],
   "source": [
    "# train_txt tokenize"
   ]
  },
  {
   "cell_type": "code",
   "execution_count": 131,
   "metadata": {},
   "outputs": [],
   "source": [
    "train_txt = []\n",
    "for i in train_files:\n",
    "    with open(i,\"r\",encoding='utf-8') as file:\n",
    "        content = file.read().split(\"\\n\")\n",
    "        \n",
    "    item = \"\"\n",
    "    for j in content:\n",
    "        item = item + j\n",
    "        \n",
    "    no_punc = re.sub(r'[^\\w\\s+]', '',item)\n",
    "    no_num = re.sub(r'[\\d+]', '', no_punc)\n",
    "    \n",
    "    train_txt.append(str(no_num))"
   ]
  },
  {
   "cell_type": "code",
   "execution_count": 132,
   "metadata": {},
   "outputs": [],
   "source": [
    "train_token = Tokenizer() # create the tokenizer\n",
    "train_token.fit_on_texts(train_txt)\n",
    "#print(train_token.word_index)"
   ]
  },
  {
   "cell_type": "code",
   "execution_count": 133,
   "metadata": {},
   "outputs": [],
   "source": [
    "# test_txt tokenize"
   ]
  },
  {
   "cell_type": "code",
   "execution_count": 134,
   "metadata": {},
   "outputs": [],
   "source": [
    "test_txt = []\n",
    "for i in test_files:\n",
    "    with open(i,\"r\",encoding='utf-8') as file:\n",
    "        content = file.read().split(\"\\n\")\n",
    "        \n",
    "    item = \"\"\n",
    "    for j in content:\n",
    "        item = item + j\n",
    "        \n",
    "    no_punc = re.sub(r'[^\\w\\s+]', '',item)\n",
    "    no_num = re.sub(r'[\\d+]', '', no_punc)\n",
    "    \n",
    "    test_txt.append(str(no_num))\n"
   ]
  },
  {
   "cell_type": "code",
   "execution_count": 135,
   "metadata": {},
   "outputs": [],
   "source": [
    "test_token = Tokenizer() # create the tokenizer\n",
    "test_token.fit_on_texts(test_txt)\n",
    "#print(test_token.word_index)"
   ]
  },
  {
   "cell_type": "code",
   "execution_count": null,
   "metadata": {},
   "outputs": [],
   "source": []
  },
  {
   "cell_type": "code",
   "execution_count": 136,
   "metadata": {},
   "outputs": [],
   "source": [
    "# b(viii)-(ix) \n",
    "# Select a review length L that 70% of the reviews have a length below it.\n",
    "# Truncate reviews longer than L words and zero-pad reviews shorter than L so that all texts (= data points) are of length L       "
   ]
  },
  {
   "cell_type": "code",
   "execution_count": 137,
   "metadata": {},
   "outputs": [],
   "source": [
    "from tensorflow.keras.preprocessing.text import one_hot\n",
    "from tensorflow.keras.preprocessing.sequence import pad_sequences\n",
    "from keras.preprocessing.text import text_to_word_sequence"
   ]
  },
  {
   "cell_type": "code",
   "execution_count": 138,
   "metadata": {},
   "outputs": [],
   "source": [
    "L_70 = sorted(review_len)[1400] # 737\n",
    "L_90 = sorted(review_len)[1800] # 997\n",
    "trun_lst = [L_70 if i> L_70 else i for i in review_len]\n",
    "\n",
    "# train set\n",
    "train_encoded = [one_hot(i,n = len(unique_lst)) for i in train_txt]\n",
    "# test set\n",
    "test_encoded = [one_hot(i,n = len(unique_lst)) for i in test_txt]"
   ]
  },
  {
   "cell_type": "code",
   "execution_count": 139,
   "metadata": {},
   "outputs": [],
   "source": [
    "# zero-pad reviews\n",
    "train_padded = pad_sequences(train_encoded, maxlen = L_70)\n",
    "test_padded = pad_sequences(test_encoded, maxlen = L_70)"
   ]
  },
  {
   "cell_type": "code",
   "execution_count": null,
   "metadata": {},
   "outputs": [],
   "source": []
  },
  {
   "cell_type": "markdown",
   "metadata": {},
   "source": [
    "##  Word Embeddings"
   ]
  },
  {
   "cell_type": "code",
   "execution_count": 140,
   "metadata": {},
   "outputs": [],
   "source": [
    "from tensorflow.keras.models import Sequential\n",
    "from tensorflow.keras.layers import Embedding\n",
    "from tensorflow.keras.layers import Dense\n",
    "from tensorflow.keras.layers import Flatten"
   ]
  },
  {
   "cell_type": "code",
   "execution_count": 141,
   "metadata": {},
   "outputs": [],
   "source": [
    "# negative sentiment labelled as 0\n",
    "neg_labels = np.zeros(1000)\n",
    "train_neg_labels = neg_labels[:700]\n",
    "test_neg_labels = neg_labels[700:]\n",
    "\n",
    "# positive sentiment labelled as 1\n",
    "pos_labels = np.ones(1000)\n",
    "train_pos_labels = pos_labels[:700]\n",
    "test_pos_labels = pos_labels[700:]\n"
   ]
  },
  {
   "cell_type": "code",
   "execution_count": 142,
   "metadata": {},
   "outputs": [],
   "source": [
    "# combine negative and positive in train set: Y\n",
    "train_labels = np.concatenate((train_neg_labels, train_pos_labels))\n",
    "test_labels = np.concatenate((test_neg_labels, test_pos_labels))\n",
    "\n",
    "#y_train = pd.DataFrame(train_labels)\n",
    "#y_test = pd.DataFrame(test_labels)"
   ]
  },
  {
   "cell_type": "code",
   "execution_count": 143,
   "metadata": {},
   "outputs": [],
   "source": [
    "# encode train x and test x with top_word=5000: X\n",
    "train_encoded = [one_hot(i,n = 5000) for i in train_txt]\n",
    "test_encoded = [one_hot(i,n = 5000) for i in test_txt]\n",
    "\n",
    "train_padded = pad_sequences(train_encoded, maxlen = L_70)\n",
    "test_padded = pad_sequences(test_encoded, maxlen = L_70)"
   ]
  },
  {
   "cell_type": "code",
   "execution_count": 144,
   "metadata": {},
   "outputs": [
    {
     "name": "stdout",
     "output_type": "stream",
     "text": [
      "44/44 [==============================] - 0s 2ms/step - loss: 0.4887 - accuracy: 0.9671\n",
      "Accuracy: 96.714288\n"
     ]
    }
   ],
   "source": [
    "# c (i) Define the model\n",
    "# model.add(Embedding(top words, 32, input length=max words)), where top_words=5,000 and max words=L.\n",
    "# in this case, L = L_70\n",
    "model = Sequential()\n",
    "model.add(Embedding(5001, 32, input_length= L_70))\n",
    "\n",
    "# c (ii) Flatten the matrix of each document to a vector\n",
    "model.add(Flatten())\n",
    "model.add(Dense(1, activation='sigmoid'))\n",
    "model.compile(optimizer='adam', loss='binary_crossentropy', metrics=['accuracy'])\n",
    "train_x = train_padded\n",
    "train_y = train_labels\n",
    "model.fit(train_x, train_y, epochs=2, verbose=0)\n",
    "loss, accuracy = model.evaluate(train_x, train_y)\n",
    "print('Accuracy: %f' % (accuracy*100))"
   ]
  },
  {
   "cell_type": "code",
   "execution_count": 145,
   "metadata": {},
   "outputs": [
    {
     "name": "stdout",
     "output_type": "stream",
     "text": [
      "Model: \"sequential_22\"\n",
      "_________________________________________________________________\n",
      " Layer (type)                Output Shape              Param #   \n",
      "=================================================================\n",
      " embedding_21 (Embedding)    (None, 737, 32)           160032    \n",
      "                                                                 \n",
      " flatten_14 (Flatten)        (None, 23584)             0         \n",
      "                                                                 \n",
      " dense_61 (Dense)            (None, 1)                 23585     \n",
      "                                                                 \n",
      "=================================================================\n",
      "Total params: 183,617\n",
      "Trainable params: 183,617\n",
      "Non-trainable params: 0\n",
      "_________________________________________________________________\n"
     ]
    }
   ],
   "source": [
    "model.summary()"
   ]
  },
  {
   "cell_type": "code",
   "execution_count": 146,
   "metadata": {},
   "outputs": [
    {
     "data": {
      "text/plain": [
       "'\\nReference: https://machinelearningmastery.com/use-word-embedding-layers-deep-learning-keras/\\n           https://github.com/codebasics/deep-learning-keras-tf-tutorial/blob/master/22_word_embedding/supervised_word_embeddings.ipynb\\n           https://www.youtube.com/watch?v=Wp-Wb456kSU\\n'"
      ]
     },
     "execution_count": 146,
     "metadata": {},
     "output_type": "execute_result"
    }
   ],
   "source": [
    "'''\n",
    "Reference: https://machinelearningmastery.com/use-word-embedding-layers-deep-learning-keras/\n",
    "           https://github.com/codebasics/deep-learning-keras-tf-tutorial/blob/master/22_word_embedding/supervised_word_embeddings.ipynb\n",
    "           https://www.youtube.com/watch?v=Wp-Wb456kSU\n",
    "'''"
   ]
  },
  {
   "cell_type": "code",
   "execution_count": null,
   "metadata": {},
   "outputs": [],
   "source": []
  },
  {
   "cell_type": "markdown",
   "metadata": {},
   "source": [
    "## Multi-Layer Perceptron"
   ]
  },
  {
   "cell_type": "code",
   "execution_count": 147,
   "metadata": {},
   "outputs": [],
   "source": [
    "from tensorflow.keras import layers\n",
    "from keras.layers import Dropout"
   ]
  },
  {
   "cell_type": "code",
   "execution_count": 148,
   "metadata": {},
   "outputs": [],
   "source": [
    "# d (i) Train a MLP with 3 (dense) hidden layers each of which has 50 ReLUs and one output layer with a single sigmoid neuron. \n",
    "#       Use a dropout rate of 20% for the first layer and 50% for the other layers. \n",
    "#       Use ADAM optimizer and binary cross entropy loss (which is equivalent to having a softmax in the output). \n",
    "#       To avoid overfitting, just set the number of epochs as 2. \n",
    "#       Use a batch size of 10"
   ]
  },
  {
   "cell_type": "code",
   "execution_count": 149,
   "metadata": {},
   "outputs": [
    {
     "name": "stdout",
     "output_type": "stream",
     "text": [
      "Model: \"sequential_23\"\n",
      "_________________________________________________________________\n",
      " Layer (type)                Output Shape              Param #   \n",
      "=================================================================\n",
      " embedding_22 (Embedding)    (None, 737, 32)           160032    \n",
      "                                                                 \n",
      " flatten_15 (Flatten)        (None, 23584)             0         \n",
      "                                                                 \n",
      " dense_62 (Dense)            (None, 50)                1179250   \n",
      "                                                                 \n",
      " dropout_40 (Dropout)        (None, 50)                0         \n",
      "                                                                 \n",
      " dense_63 (Dense)            (None, 50)                2550      \n",
      "                                                                 \n",
      " dropout_41 (Dropout)        (None, 50)                0         \n",
      "                                                                 \n",
      " dense_64 (Dense)            (None, 50)                2550      \n",
      "                                                                 \n",
      " dropout_42 (Dropout)        (None, 50)                0         \n",
      "                                                                 \n",
      " dense_65 (Dense)            (None, 1)                 51        \n",
      "                                                                 \n",
      "=================================================================\n",
      "Total params: 1,344,433\n",
      "Trainable params: 1,344,433\n",
      "Non-trainable params: 0\n",
      "_________________________________________________________________\n"
     ]
    }
   ],
   "source": [
    "# Building the model\n",
    "model = Sequential()\n",
    "model.add(Embedding(5001, 32, input_length= L_70))\n",
    "model.add(Flatten())\n",
    "model.add(Dense(50, activation='relu'))\n",
    "model.add(Dropout(0.2)) # tf.keras.layers.Dropout(rate, noise_shape=None, seed=None, **kwargs)\n",
    "model.add(Dense(50, activation='relu'))\n",
    "model.add(Dropout(0.5))\n",
    "model.add(Dense(50, activation='relu'))\n",
    "model.add(Dropout(0.5))\n",
    "model.add(Dense(1, activation='sigmoid'))\n",
    "\n",
    "\n",
    "# Compiling the model\n",
    "model.compile(optimizer='adam', loss='binary_crossentropy', metrics=['accuracy'])\n",
    "model.summary()"
   ]
  },
  {
   "cell_type": "code",
   "execution_count": 150,
   "metadata": {},
   "outputs": [
    {
     "name": "stdout",
     "output_type": "stream",
     "text": [
      "Epoch 1/2\n",
      "140/140 [==============================] - 2s 8ms/step - loss: 0.6993 - accuracy: 0.5221 - val_loss: 0.6902 - val_accuracy: 0.5517\n",
      "Epoch 2/2\n",
      "140/140 [==============================] - 1s 7ms/step - loss: 0.6181 - accuracy: 0.6429 - val_loss: 0.6455 - val_accuracy: 0.6467\n",
      "44/44 [==============================] - 0s 4ms/step - loss: 0.2403 - accuracy: 0.9314\n",
      "Accuracy: 93.142855\n"
     ]
    }
   ],
   "source": [
    "# Training the model\n",
    "train_x = train_padded\n",
    "train_y = train_labels\n",
    "\n",
    "test_x = test_padded\n",
    "test_y = test_labels\n",
    "\n",
    "model.fit(train_x,train_y,epochs = 2, batch_size = 10, verbose = 1,validation_data = (test_x,test_y))\n",
    "loss, accuracy = model.evaluate(train_x, train_y)\n",
    "print('Accuracy: %f' % (accuracy*100))"
   ]
  },
  {
   "cell_type": "code",
   "execution_count": 151,
   "metadata": {},
   "outputs": [
    {
     "name": "stdout",
     "output_type": "stream",
     "text": [
      "19/19 [==============================] - 0s 5ms/step - loss: 0.6455 - accuracy: 0.6467\n",
      "Test Accuracy: 64.666665\n"
     ]
    }
   ],
   "source": [
    "# Test the model\n",
    "loss,accuracy = model.evaluate(test_x,test_y)\n",
    "print('Test Accuracy: %f' % (accuracy*100))"
   ]
  },
  {
   "cell_type": "code",
   "execution_count": 152,
   "metadata": {},
   "outputs": [
    {
     "data": {
      "text/plain": [
       "'\\nReference: https://github.com/KirillShmilovich/MLP-Neural-Network-From-Scratch/blob/master/MLP.ipynb\\n           https://github.com/rishabhrastogi31/student-admission-classifier-based-on-MLP-KERAS/blob/master/StudentAdmissionsKeras.ipynb\\n'"
      ]
     },
     "execution_count": 152,
     "metadata": {},
     "output_type": "execute_result"
    }
   ],
   "source": [
    "'''\n",
    "Reference: https://github.com/KirillShmilovich/MLP-Neural-Network-From-Scratch/blob/master/MLP.ipynb\n",
    "           https://github.com/rishabhrastogi31/student-admission-classifier-based-on-MLP-KERAS/blob/master/StudentAdmissionsKeras.ipynb\n",
    "'''"
   ]
  },
  {
   "cell_type": "code",
   "execution_count": null,
   "metadata": {},
   "outputs": [],
   "source": []
  },
  {
   "cell_type": "markdown",
   "metadata": {},
   "source": [
    "## One-Dimensional Convolutional Neural Network"
   ]
  },
  {
   "cell_type": "code",
   "execution_count": 153,
   "metadata": {},
   "outputs": [],
   "source": [
    "from tensorflow.keras.layers import Conv1D, MaxPooling1D"
   ]
  },
  {
   "cell_type": "code",
   "execution_count": 154,
   "metadata": {},
   "outputs": [],
   "source": [
    "# e (i) After the embedding layer, insert a Conv1D layer. \n",
    "#      This convolutional layer has 32 feature maps , and each of the 32 kernels has size 3, \n",
    "#      i.e. reads embedded word representations 3 vector elements of the word embedding at a time. \n",
    "#      The convolutional layer is followed by a 1D max pooling layer with a length and stride of 2 \n",
    "#      The rest of the network is the same as the neural network above"
   ]
  },
  {
   "cell_type": "code",
   "execution_count": 155,
   "metadata": {},
   "outputs": [
    {
     "name": "stdout",
     "output_type": "stream",
     "text": [
      "Model: \"sequential_24\"\n",
      "_________________________________________________________________\n",
      " Layer (type)                Output Shape              Param #   \n",
      "=================================================================\n",
      " embedding_23 (Embedding)    (None, 737, 32)           160032    \n",
      "                                                                 \n",
      " conv1d_8 (Conv1D)           (None, 735, 32)           3104      \n",
      "                                                                 \n",
      " max_pooling1d_8 (MaxPooling  (None, 367, 32)          0         \n",
      " 1D)                                                             \n",
      "                                                                 \n",
      " flatten_16 (Flatten)        (None, 11744)             0         \n",
      "                                                                 \n",
      " dense_66 (Dense)            (None, 50)                587250    \n",
      "                                                                 \n",
      " dropout_43 (Dropout)        (None, 50)                0         \n",
      "                                                                 \n",
      " dense_67 (Dense)            (None, 50)                2550      \n",
      "                                                                 \n",
      " dropout_44 (Dropout)        (None, 50)                0         \n",
      "                                                                 \n",
      " dense_68 (Dense)            (None, 50)                2550      \n",
      "                                                                 \n",
      " dropout_45 (Dropout)        (None, 50)                0         \n",
      "                                                                 \n",
      " dense_69 (Dense)            (None, 1)                 51        \n",
      "                                                                 \n",
      "=================================================================\n",
      "Total params: 755,537\n",
      "Trainable params: 755,537\n",
      "Non-trainable params: 0\n",
      "_________________________________________________________________\n",
      "Epoch 1/2\n",
      "140/140 [==============================] - 2s 9ms/step - loss: 0.6984 - accuracy: 0.5029\n",
      "Epoch 2/2\n",
      "140/140 [==============================] - 1s 9ms/step - loss: 0.6516 - accuracy: 0.6093\n",
      "44/44 [==============================] - 0s 6ms/step - loss: 0.3904 - accuracy: 0.8907\n",
      "Accuracy: 89.071429\n"
     ]
    }
   ],
   "source": [
    "model = Sequential()\n",
    "model.add(Embedding(5001, 32, input_length= L_70))\n",
    "model.add(Conv1D(32,kernel_size = 3))\n",
    "model.add(MaxPooling1D(pool_size=2,strides=2, padding='valid'))\n",
    "model.add(Flatten())\n",
    "model.add(Dense(50, activation='relu'))\n",
    "model.add(Dropout(0.2))\n",
    "model.add(Dense(50, activation='relu'))\n",
    "model.add(Dropout(0.5))\n",
    "model.add(Dense(50, activation='relu'))\n",
    "model.add(Dropout(0.5))\n",
    "model.add(Dense(1, activation='sigmoid'))\n",
    "model.compile(optimizer='adam', loss='binary_crossentropy', metrics=['accuracy'])\n",
    "model.summary()\n",
    "\n",
    "model.fit(train_x,train_y,epochs = 2, batch_size = 10, verbose = 1)\n",
    "loss, accuracy = model.evaluate(train_x, train_y)\n",
    "print('Accuracy: %f' % (accuracy*100))"
   ]
  },
  {
   "cell_type": "code",
   "execution_count": 156,
   "metadata": {},
   "outputs": [
    {
     "name": "stdout",
     "output_type": "stream",
     "text": [
      "19/19 [==============================] - 0s 6ms/step - loss: 0.6577 - accuracy: 0.5983\n",
      "Test Accuracy: 59.833336\n"
     ]
    }
   ],
   "source": [
    "# Test the model\n",
    "loss,accuracy = model.evaluate(test_x,test_y)\n",
    "print('Test Accuracy: %f' % (accuracy*100))"
   ]
  },
  {
   "cell_type": "code",
   "execution_count": 157,
   "metadata": {},
   "outputs": [],
   "source": [
    "def cnn_model(train_x,train_y,test_x,test_y):\n",
    "    verbose, epochs, batch_size = 1, 2, 10\n",
    "    model = Sequential()\n",
    "    model.add(Embedding(5001, 32, input_length= L_70))\n",
    "    model.add(Conv1D(32,kernel_size = 3))\n",
    "    model.add(MaxPooling1D(pool_size=2,strides=2, padding='valid'))\n",
    "    model.add(Flatten())\n",
    "    model.add(Dense(50, activation='relu'))\n",
    "    model.add(Dropout(0.2))\n",
    "    model.add(Dense(50, activation='relu'))\n",
    "    model.add(Dropout(0.5))\n",
    "    model.add(Dense(50, activation='relu'))\n",
    "    model.add(Dropout(0.5))\n",
    "    model.add(Dense(1, activation='sigmoid'))\n",
    "    model.compile(optimizer='adam', loss='binary_crossentropy', metrics=['accuracy'])\n",
    "    model.fit(train_x,train_y,epochs = epochs, batch_size = batch_size, verbose = verbose)\n",
    "    loss, accuracy = model.evaluate(train_x, train_y)\n",
    "    print('Accuracy: %f' % (accuracy*100))\n",
    "    test_loss,test_accuracy = model.evaluate(test_x,test_y)\n",
    "    print('Test Accuracy: %f' % (test_accuracy*100))\n",
    "    "
   ]
  },
  {
   "cell_type": "code",
   "execution_count": 158,
   "metadata": {},
   "outputs": [
    {
     "name": "stdout",
     "output_type": "stream",
     "text": [
      "Epoch 1/2\n",
      "140/140 [==============================] - 2s 9ms/step - loss: 0.6962 - accuracy: 0.5121\n",
      "Epoch 2/2\n",
      "140/140 [==============================] - 1s 8ms/step - loss: 0.6721 - accuracy: 0.5829\n",
      "44/44 [==============================] - 0s 5ms/step - loss: 0.5519 - accuracy: 0.8379\n",
      "Accuracy: 83.785713\n",
      "19/19 [==============================] - 0s 5ms/step - loss: 0.6703 - accuracy: 0.5917\n",
      "Test Accuracy: 59.166664\n"
     ]
    }
   ],
   "source": [
    "cnn_model(train_x,train_y,test_x,test_y)"
   ]
  },
  {
   "cell_type": "code",
   "execution_count": 159,
   "metadata": {},
   "outputs": [
    {
     "data": {
      "text/plain": [
       "'\\nReference: https://keras.io/api/layers/pooling_layers/max_pooling1d/\\n           https://keras.io/api/layers/convolution_layers/convolution1d/\\n           https://github.com/Gruschtel/1D-CNN/blob/master/1D_CNN_01.ipynb\\n           https://machinelearningmastery.com/cnn-models-for-human-activity-recognition-time-series-classification/\\n'"
      ]
     },
     "execution_count": 159,
     "metadata": {},
     "output_type": "execute_result"
    }
   ],
   "source": [
    "'''\n",
    "Reference: https://keras.io/api/layers/pooling_layers/max_pooling1d/\n",
    "           https://keras.io/api/layers/convolution_layers/convolution1d/\n",
    "           https://github.com/Gruschtel/1D-CNN/blob/master/1D_CNN_01.ipynb\n",
    "           https://machinelearningmastery.com/cnn-models-for-human-activity-recognition-time-series-classification/\n",
    "'''"
   ]
  },
  {
   "cell_type": "code",
   "execution_count": null,
   "metadata": {},
   "outputs": [],
   "source": []
  },
  {
   "cell_type": "markdown",
   "metadata": {},
   "source": [
    "## Long Short-Term Memory Recurrent Neural Network"
   ]
  },
  {
   "cell_type": "code",
   "execution_count": 160,
   "metadata": {},
   "outputs": [],
   "source": [
    "from tensorflow.keras.layers import LSTM"
   ]
  },
  {
   "cell_type": "code",
   "execution_count": 161,
   "metadata": {},
   "outputs": [],
   "source": [
    "# f (i) Each word is represented to LSTM as a vector of 32 elements and the LSTM is followed by a dense layer of 256 ReLUs. \n",
    "#       Use a dropout rate of 0.2 for both LSTM and the dense layer. \n",
    "#       Train the model using 10-50 epochs and batch size of 10."
   ]
  },
  {
   "cell_type": "code",
   "execution_count": 162,
   "metadata": {},
   "outputs": [],
   "source": [
    "# Choose the epoch size = 15\n",
    "def lstm_model(train_x,train_y,test_x,test_y):\n",
    "    verbose, batch_size = 1, 10\n",
    "    \n",
    "    model = Sequential()\n",
    "    model.add(Embedding(5001, 32, input_length= L_70))\n",
    "    model.add(LSTM(32, dropout=0.2))\n",
    "    model.add(Dense(256,activation = 'relu'))\n",
    "    model.add(Dropout(0.2))\n",
    "    model.add(Dense(1, activation='sigmoid'))\n",
    "    model.compile(optimizer='adam', loss='binary_crossentropy', metrics=['accuracy'])\n",
    "    model.summary()\n",
    "    model.fit(train_x,train_y, epochs = 15, batch_size = batch_size, verbose = verbose,validation_data = (test_x,test_y))\n",
    "    \n",
    "    loss, accuracy = model.evaluate(train_x, train_y)\n",
    "    print('Accuracy: %f' % (accuracy*100))\n",
    "    test_loss,test_accuracy = model.evaluate(test_x,test_y)\n",
    "    print('Test Accuracy: %f' % (test_accuracy*100))"
   ]
  },
  {
   "cell_type": "code",
   "execution_count": 163,
   "metadata": {},
   "outputs": [
    {
     "name": "stdout",
     "output_type": "stream",
     "text": [
      "Model: \"sequential_26\"\n",
      "_________________________________________________________________\n",
      " Layer (type)                Output Shape              Param #   \n",
      "=================================================================\n",
      " embedding_25 (Embedding)    (None, 737, 32)           160032    \n",
      "                                                                 \n",
      " lstm_7 (LSTM)               (None, 32)                8320      \n",
      "                                                                 \n",
      " dense_74 (Dense)            (None, 256)               8448      \n",
      "                                                                 \n",
      " dropout_49 (Dropout)        (None, 256)               0         \n",
      "                                                                 \n",
      " dense_75 (Dense)            (None, 1)                 257       \n",
      "                                                                 \n",
      "=================================================================\n",
      "Total params: 177,057\n",
      "Trainable params: 177,057\n",
      "Non-trainable params: 0\n",
      "_________________________________________________________________\n",
      "Epoch 1/15\n",
      "140/140 [==============================] - 23s 156ms/step - loss: 0.6906 - accuracy: 0.5293 - val_loss: 0.6700 - val_accuracy: 0.6167\n",
      "Epoch 2/15\n",
      "140/140 [==============================] - 22s 154ms/step - loss: 0.5369 - accuracy: 0.7671 - val_loss: 0.6599 - val_accuracy: 0.6633\n",
      "Epoch 3/15\n",
      "140/140 [==============================] - 20s 142ms/step - loss: 0.2217 - accuracy: 0.9179 - val_loss: 0.6455 - val_accuracy: 0.6900\n",
      "Epoch 4/15\n",
      "140/140 [==============================] - 20s 140ms/step - loss: 0.0675 - accuracy: 0.9814 - val_loss: 0.9226 - val_accuracy: 0.7033\n",
      "Epoch 5/15\n",
      "140/140 [==============================] - 20s 143ms/step - loss: 0.0591 - accuracy: 0.9821 - val_loss: 1.0332 - val_accuracy: 0.6883\n",
      "Epoch 6/15\n",
      "140/140 [==============================] - 21s 147ms/step - loss: 0.0182 - accuracy: 0.9943 - val_loss: 1.1392 - val_accuracy: 0.6967\n",
      "Epoch 7/15\n",
      "140/140 [==============================] - 21s 149ms/step - loss: 0.0059 - accuracy: 0.9979 - val_loss: 1.3127 - val_accuracy: 0.7083\n",
      "Epoch 8/15\n",
      "140/140 [==============================] - 20s 142ms/step - loss: 5.8363e-04 - accuracy: 1.0000 - val_loss: 1.4437 - val_accuracy: 0.7150\n",
      "Epoch 9/15\n",
      "140/140 [==============================] - 21s 147ms/step - loss: 4.4518e-04 - accuracy: 1.0000 - val_loss: 1.5205 - val_accuracy: 0.7050\n",
      "Epoch 10/15\n",
      "140/140 [==============================] - 22s 155ms/step - loss: 0.0062 - accuracy: 0.9979 - val_loss: 1.4667 - val_accuracy: 0.6583\n",
      "Epoch 11/15\n",
      "140/140 [==============================] - 21s 153ms/step - loss: 0.0078 - accuracy: 0.9986 - val_loss: 1.5955 - val_accuracy: 0.6533\n",
      "Epoch 12/15\n",
      "140/140 [==============================] - 21s 147ms/step - loss: 0.0073 - accuracy: 0.9979 - val_loss: 1.6348 - val_accuracy: 0.6917\n",
      "Epoch 13/15\n",
      "140/140 [==============================] - 20s 141ms/step - loss: 0.0200 - accuracy: 0.9921 - val_loss: 1.7234 - val_accuracy: 0.6667\n",
      "Epoch 14/15\n",
      "140/140 [==============================] - 20s 145ms/step - loss: 0.0353 - accuracy: 0.9886 - val_loss: 1.3638 - val_accuracy: 0.6850\n",
      "Epoch 15/15\n",
      "140/140 [==============================] - 21s 150ms/step - loss: 0.0060 - accuracy: 0.9979 - val_loss: 1.4450 - val_accuracy: 0.6750\n",
      "44/44 [==============================] - 3s 54ms/step - loss: 0.0081 - accuracy: 0.9971\n",
      "Accuracy: 99.714285\n",
      "19/19 [==============================] - 1s 63ms/step - loss: 1.4450 - accuracy: 0.6750\n",
      "Test Accuracy: 67.500001\n"
     ]
    }
   ],
   "source": [
    "lstm_model(train_x,train_y,test_x,test_y)"
   ]
  },
  {
   "cell_type": "code",
   "execution_count": 114,
   "metadata": {},
   "outputs": [],
   "source": [
    "# Train the model using 10-50 epochs and batch size of 10.\n",
    "def lstm_model_lst(train_x,train_y,test_x,test_y):\n",
    "    epochs_lst = [10,20,30,40,50]\n",
    "    verbose, batch_size = 0, 10\n",
    "    \n",
    "    for epoch in epochs_lst:\n",
    "        model = Sequential()\n",
    "        model.add(Embedding(5001, 32, input_length= L_70))\n",
    "        model.add(LSTM(32,dropout=0.2))\n",
    "        model.add(Dense(256,activation = 'relu'))\n",
    "        model.add(Dropout(0.2))\n",
    "        model.add(Dense(1, activation='sigmoid'))\n",
    "        model.compile(optimizer='adam', loss='binary_crossentropy', metrics=['accuracy'])\n",
    "        model.fit(train_x,train_y, epochs = epoch, batch_size = batch_size, verbose = verbose)\n",
    "    \n",
    "        loss, accuracy = model.evaluate(train_x, train_y)\n",
    "        print('Accuracy: %f' % (accuracy*100))\n",
    "        test_loss,test_accuracy = model.evaluate(test_x,test_y)\n",
    "        print('Test Accuracy: %f' % (test_accuracy*100))"
   ]
  },
  {
   "cell_type": "code",
   "execution_count": 115,
   "metadata": {},
   "outputs": [
    {
     "name": "stdout",
     "output_type": "stream",
     "text": [
      "44/44 [==============================] - 2s 46ms/step - loss: 4.5660e-04 - accuracy: 1.0000\n",
      "Accuracy: 100.000000\n",
      "19/19 [==============================] - 1s 46ms/step - loss: 1.7617 - accuracy: 0.7133\n",
      "Test Accuracy: 71.333331\n",
      "44/44 [==============================] - 2s 46ms/step - loss: 5.9253e-06 - accuracy: 1.0000\n",
      "Accuracy: 100.000000\n",
      "19/19 [==============================] - 1s 57ms/step - loss: 2.1362 - accuracy: 0.7000\n",
      "Test Accuracy: 69.999999\n",
      "44/44 [==============================] - 3s 55ms/step - loss: 3.2894e-06 - accuracy: 1.0000\n",
      "Accuracy: 100.000000\n",
      "19/19 [==============================] - 1s 44ms/step - loss: 2.6725 - accuracy: 0.6767\n",
      "Test Accuracy: 67.666668\n",
      "44/44 [==============================] - 2s 47ms/step - loss: 5.1804e-07 - accuracy: 1.0000\n",
      "Accuracy: 100.000000\n",
      "19/19 [==============================] - 1s 46ms/step - loss: 2.2918 - accuracy: 0.7317\n",
      "Test Accuracy: 73.166668\n",
      "44/44 [==============================] - 3s 48ms/step - loss: 2.3403e-07 - accuracy: 1.0000\n",
      "Accuracy: 100.000000\n",
      "19/19 [==============================] - 1s 59ms/step - loss: 2.6440 - accuracy: 0.6983\n",
      "Test Accuracy: 69.833332\n"
     ]
    }
   ],
   "source": [
    "lstm_model_lst(train_x,train_y,test_x,test_y)"
   ]
  },
  {
   "cell_type": "code",
   "execution_count": null,
   "metadata": {},
   "outputs": [],
   "source": [
    "'''\n",
    "Reference: http://colah.github.io/posts/2015-08-Understanding-LSTMs/\n",
    "'''"
   ]
  }
 ],
 "metadata": {
  "kernelspec": {
   "display_name": "Python 3 (ipykernel)",
   "language": "python",
   "name": "python3"
  },
  "language_info": {
   "codemirror_mode": {
    "name": "ipython",
    "version": 3
   },
   "file_extension": ".py",
   "mimetype": "text/x-python",
   "name": "python",
   "nbconvert_exporter": "python",
   "pygments_lexer": "ipython3",
   "version": "3.9.12"
  }
 },
 "nbformat": 4,
 "nbformat_minor": 2
}
